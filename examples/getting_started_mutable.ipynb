{
 "cells": [
  {
   "cell_type": "code",
   "execution_count": 1,
   "metadata": {},
   "outputs": [],
   "source": [
    "import morphio.mut as io"
   ]
  },
  {
   "cell_type": "code",
   "execution_count": 2,
   "metadata": {},
   "outputs": [],
   "source": [
    "import morphio\n",
    "\n",
    "import numpy as np\n",
    "import os\n",
    "from os.path import join\n",
    "data_folder = join(os.path.dirname(morphio.__file__), 'tests/data')\n",
    "filename = join(data_folder, 'simple.swc')"
   ]
  },
  {
   "cell_type": "code",
   "execution_count": 21,
   "metadata": {},
   "outputs": [],
   "source": [
    "m = io.Morphology(filename)"
   ]
  },
  {
   "cell_type": "code",
   "execution_count": null,
   "metadata": {},
   "outputs": [],
   "source": []
  },
  {
   "cell_type": "markdown",
   "metadata": {},
   "source": [
    "# Modifying an existing section"
   ]
  },
  {
   "cell_type": "code",
   "execution_count": 4,
   "metadata": {},
   "outputs": [
    {
     "data": {
      "text/plain": [
       "array([[ 0.,  5.,  0.],\n",
       "       [-5.,  5.,  0.]], dtype=float32)"
      ]
     },
     "execution_count": 4,
     "metadata": {},
     "output_type": "execute_result"
    }
   ],
   "source": [
    "leaf = m.root_sections[0].children[0]\n",
    "leaf.points"
   ]
  },
  {
   "cell_type": "code",
   "execution_count": 12,
   "metadata": {},
   "outputs": [],
   "source": [
    "# simply reassign the points and diameters\n",
    "leaf.points = [[0,0,0], [1,1,1], [2,2,2]]\n",
    "leaf.diameters = [10,10,10]"
   ]
  },
  {
   "cell_type": "markdown",
   "metadata": {},
   "source": [
    "# Appending a new section"
   ]
  },
  {
   "cell_type": "markdown",
   "metadata": {},
   "source": [
    "## Grafting an existing section"
   ]
  },
  {
   "cell_type": "code",
   "execution_count": 13,
   "metadata": {},
   "outputs": [],
   "source": [
    "# Appending a full neurite of another morphology at the end of the leaf\n",
    "other_morph = io.Morphology(join(data_folder, 'complexe.swc'))\n",
    "new_section1 = m.append_section(leaf, other_morph.root_sections[0])"
   ]
  },
  {
   "cell_type": "markdown",
   "metadata": {},
   "source": [
    "## Creating a new section"
   ]
  },
  {
   "cell_type": "code",
   "execution_count": 14,
   "metadata": {},
   "outputs": [],
   "source": [
    "from morphio import PointLevel\n",
    "\n",
    "coordinates = [[0,0,0], [1,1,1], [2,2,2]]\n",
    "diameters = [10, 10, 10]\n",
    "\n",
    "new_section_2 = m.append_section(leaf, PointLevel(coordinates, diameters))"
   ]
  },
  {
   "cell_type": "markdown",
   "metadata": {},
   "source": [
    "## Deleting a section"
   ]
  },
  {
   "cell_type": "code",
   "execution_count": 16,
   "metadata": {},
   "outputs": [],
   "source": [
    "# Recursively delete a section and all its descendant\n",
    "m.delete_section(new_section1)"
   ]
  },
  {
   "cell_type": "code",
   "execution_count": 18,
   "metadata": {},
   "outputs": [],
   "source": [
    "# Delete a section and reattatch its descendants to the parent\n",
    "m.delete_section(new_section_2, recursive=False)"
   ]
  },
  {
   "cell_type": "markdown",
   "metadata": {},
   "source": [
    "# Save to disk"
   ]
  },
  {
   "cell_type": "code",
   "execution_count": 19,
   "metadata": {},
   "outputs": [],
   "source": [
    "m.write('/tmp/awesome-neuron.asc')"
   ]
  },
  {
   "cell_type": "code",
   "execution_count": 20,
   "metadata": {},
   "outputs": [
    {
     "name": "stdout",
     "output_type": "stream",
     "text": [
      "(\"CellBody\"\r\n",
      "  (Color Red)\r\n",
      "  (CellBody)\r\n",
      "  (0.000000 0.000000 0.000000 2.000000)\r\n",
      ")\r\n",
      "\r\n",
      "( (Color Red)\r\n",
      "  (Dendrite)\r\n",
      "  (0.000000 0.000000 0.000000 2.000000)\r\n",
      "  (0.000000 5.000000 0.000000 2.000000)\r\n",
      "  (\r\n",
      "    (0.000000 0.000000 0.000000 10.000000)\r\n",
      "    (1.000000 1.000000 1.000000 10.000000)\r\n",
      "    (2.000000 2.000000 2.000000 10.000000)\r\n",
      "    (\r\n",
      "      (0.000000 0.000000 0.000000 1.707026)\r\n",
      "      (0.000000 0.000000 0.100000 1.457112)\r\n",
      "      (-0.230907 -0.588320 0.257625 1.084458)\r\n",
      "      (-1.075483 -0.799626 0.770245 0.316682)\r\n",
      "      (-1.459043 -1.786882 0.831245 1.499422)\r\n",
      "      (-1.870406 -2.373398 1.725944 0.842078)\r\n",
      "      (-2.710822 -2.639591 2.066261 0.375574)\r\n",
      "      (-3.662137 -3.361521 2.590782 0.474046)\r\n",
      "      (-4.389185 -3.808853 3.265156 1.294592)\r\n",
      "    |\r\n",
      "      (0.000000 0.000000 0.000000 10.000000)\r\n",
      "      (1.000000 1.000000 1.000000 10.000000)\r\n",
      "      (2.000000 2.000000 2.000000 10.000000)\r\n",
      "    |\r\n",
      "      (0.000000 0.000000 0.000000 10.000000)\r\n",
      "      (1.000000 1.000000 1.000000 10.000000)\r\n",
      "      (2.000000 2.000000 2.000000 10.000000)\r\n",
      "    )\r\n",
      "  |\r\n",
      "    (0.000000 5.000000 0.000000 2.000000)\r\n",
      "    (6.000000 5.000000 0.000000 3.000000)\r\n",
      "  )\r\n",
      ")\r\n",
      "\r\n",
      "( (Color Cyan)\r\n",
      "  (Axon)\r\n",
      "  (0.000000 0.000000 0.000000 2.000000)\r\n",
      "  (0.000000 -4.000000 0.000000 2.000000)\r\n",
      "  (\r\n",
      "    (0.000000 -4.000000 0.000000 2.000000)\r\n",
      "    (6.000000 -4.000000 0.000000 4.000000)\r\n",
      "  |\r\n",
      "    (0.000000 -4.000000 0.000000 2.000000)\r\n",
      "    (-5.000000 -4.000000 0.000000 4.000000)\r\n",
      "  )\r\n",
      ")\r\n",
      "\r\n",
      "; Created by MorphIO v2.0.0.dev0\r\n"
     ]
    }
   ],
   "source": [
    "!cat /tmp/awesome-neuron.asc"
   ]
  }
 ],
 "metadata": {
  "kernelspec": {
   "display_name": "Python 3",
   "language": "python",
   "name": "python3"
  },
  "language_info": {
   "codemirror_mode": {
    "name": "ipython",
    "version": 3
   },
   "file_extension": ".py",
   "mimetype": "text/x-python",
   "name": "python",
   "nbconvert_exporter": "python",
   "pygments_lexer": "ipython3",
   "version": "3.6.5"
  }
 },
 "nbformat": 4,
 "nbformat_minor": 2
}
